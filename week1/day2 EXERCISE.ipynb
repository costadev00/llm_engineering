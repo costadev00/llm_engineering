{
 "cells": [
  {
   "cell_type": "markdown",
   "id": "d15d8294-3328-4e07-ad16-8a03e9bbfdb9",
   "metadata": {},
   "source": [
    "# Welcome to your first assignment!\n",
    "\n",
    "Instructions are below. Please give this a try, and look in the solutions folder if you get stuck (or feel free to ask me!)"
   ]
  },
  {
   "cell_type": "markdown",
   "id": "ada885d9-4d42-4d9b-97f0-74fbbbfe93a9",
   "metadata": {},
   "source": [
    "<table style=\"margin: 0; text-align: left;\">\n",
    "    <tr>\n",
    "        <td style=\"width: 150px; height: 150px; vertical-align: middle;\">\n",
    "            <img src=\"../resources.jpg\" width=\"150\" height=\"150\" style=\"display: block;\" />\n",
    "        </td>\n",
    "        <td>\n",
    "            <h2 style=\"color:#f71;\">Just before we get to the assignment --</h2>\n",
    "            <span style=\"color:#f71;\">I thought I'd take a second to point you at this page of useful resources for the course. This includes links to all the slides.<br/>\n",
    "            <a href=\"https://edwarddonner.com/2024/11/13/llm-engineering-resources/\">https://edwarddonner.com/2024/11/13/llm-engineering-resources/</a><br/>\n",
    "            Please keep this bookmarked, and I'll continue to add more useful links there over time.\n",
    "            </span>\n",
    "        </td>\n",
    "    </tr>\n",
    "</table>"
   ]
  },
  {
   "cell_type": "markdown",
   "id": "6e9fa1fc-eac5-4d1d-9be4-541b3f2b3458",
   "metadata": {},
   "source": [
    "# HOMEWORK EXERCISE ASSIGNMENT\n",
    "\n",
    "Upgrade the day 1 project to summarize a webpage to use an Open Source model running locally via Ollama rather than OpenAI\n",
    "\n",
    "You'll be able to use this technique for all subsequent projects if you'd prefer not to use paid APIs.\n",
    "\n",
    "**Benefits:**\n",
    "1. No API charges - open-source\n",
    "2. Data doesn't leave your box\n",
    "\n",
    "**Disadvantages:**\n",
    "1. Significantly less power than Frontier Model\n",
    "\n",
    "## Recap on installation of Ollama\n",
    "\n",
    "Simply visit [ollama.com](https://ollama.com) and install!\n",
    "\n",
    "Once complete, the ollama server should already be running locally.  \n",
    "If you visit:  \n",
    "[http://localhost:11434/](http://localhost:11434/)\n",
    "\n",
    "You should see the message `Ollama is running`.  \n",
    "\n",
    "If not, bring up a new Terminal (Mac) or Powershell (Windows) and enter `ollama serve`  \n",
    "And in another Terminal (Mac) or Powershell (Windows), enter `ollama pull llama3.2`  \n",
    "Then try [http://localhost:11434/](http://localhost:11434/) again.\n",
    "\n",
    "If Ollama is slow on your machine, try using `llama3.2:1b` as an alternative. Run `ollama pull llama3.2:1b` from a Terminal or Powershell, and change the code below from `MODEL = \"llama3.2\"` to `MODEL = \"llama3.2:1b\"`"
   ]
  },
  {
   "cell_type": "code",
   "execution_count": 112,
   "id": "4e2a9393-7767-488e-a8bf-27c12dca35bd",
   "metadata": {},
   "outputs": [],
   "source": [
    "# imports\n",
    "\n",
    "import os\n",
    "import requests\n",
    "from dotenv import load_dotenv\n",
    "from bs4 import BeautifulSoup\n",
    "from IPython.display import Markdown, display\n",
    "from openai import OpenAI\n",
    "\n",
    "# If you get an error running this cell, then please head over to the troubleshooting notebook!"
   ]
  },
  {
   "cell_type": "code",
   "execution_count": 113,
   "id": "29ddd15d-a3c5-4f4e-a678-873f56162724",
   "metadata": {},
   "outputs": [],
   "source": [
    "# Constants\n",
    "\n",
    "OLLAMA_API = \"http://localhost:11434/api/chat\"\n",
    "HEADERS = {\"Content-Type\": \"application/json\"}\n",
    "MODEL = \"deepseek-r1:1.5b\""
   ]
  },
  {
   "cell_type": "code",
   "execution_count": 114,
   "id": "dac0a679-599c-441f-9bf2-ddc73d35b940",
   "metadata": {},
   "outputs": [],
   "source": [
    "# Create a messages list using the same format that we used for OpenAI\n",
    "\n",
    "messages = [\n",
    "    {\"role\": \"user\", \"content\": \"Describe some of the business applications of Generative AI\"}\n",
    "]"
   ]
  },
  {
   "cell_type": "code",
   "execution_count": 115,
   "id": "7bb9c624-14f0-4945-a719-8ddb64f66f47",
   "metadata": {},
   "outputs": [],
   "source": [
    "payload = {\n",
    "        \"model\": MODEL,\n",
    "        \"messages\": messages,\n",
    "        \"stream\": False\n",
    "    }"
   ]
  },
  {
   "cell_type": "code",
   "execution_count": 116,
   "id": "479ff514-e8bd-4985-a572-2ea28bb4fa40",
   "metadata": {},
   "outputs": [],
   "source": [
    "# Let's just make sure the model is loaded\n",
    "\n",
    "# !ollama pull gemma3"
   ]
  },
  {
   "cell_type": "code",
   "execution_count": 117,
   "id": "42b9f644-522d-4e05-a691-56e7658c0ea9",
   "metadata": {},
   "outputs": [
    {
     "name": "stdout",
     "output_type": "stream",
     "text": [
      "<think>\n",
      "Alright, so I need to describe some business applications of generative AI. Hmm, let me think about what I know and where to start.\n",
      "\n",
      "Generative AI is like a machine that can create things based on input data. So, it's not just generating text or images; it can also do other things? Maybe music, art, code generation, etc. Okay, so the applications must be varied because it's such a versatile tool.\n",
      "\n",
      "First off, content creation comes to mind. Businesses could use this for marketing materials like logos, product designs, social media posts—anything that needs visual or written content. For example, a company might generate an engaging logo design to attract more customers.\n",
      "\n",
      "Then there are creative fields. If someone is a designer, they can create unique assets programmatically. That would save time and reduce errors because it's done automatically instead of manually doing the design work each time. Maybe architecture firms use this to bring new ideas to life quickly.\n",
      "\n",
      "Another thought: content marketing. Instead of creating ads every month, generative AI can generate content on demand. So companies could create blog posts or social media posts without having a human editor each time. This would save costs and give the company more momentum as they go along.\n",
      "\n",
      "Customer engagement is another area. Using chatbots, businesses can handle customer inquiries like scheduling appointments or sending personalized offers. Maybe even through voice assistants to reach people who couldn't reply directly. That would make interactions smoother and more responsive.\n",
      "\n",
      "Social media management could benefit too. Content creators might use AI to curate posts that resonate with their audience, while influencers could share tips or engage with stories naturally without being forced. This streamlines the creation process.\n",
      "\n",
      "Customer segmentation is something I've heard about. By analyzing data, businesses can target specific groups of customers for personalized campaigns. Using generative AI, they can create tailored content and offer customized promotions to each segment. That would make marketing efforts more efficient and effective.\n",
      "\n",
      "In healthcare, generative AI could be used for generating clinical notes or patient information. It might also help in diagnosing diseases by creating synthetic data that mimics real cases, making analysis easier. This could improve diagnostic accuracy.\n",
      "\n",
      "Marketing automation is another area where generative AI can shine. Instead of manually running campaigns, it can create automated tasks like sending emails, tracking leads, and measuring performance. This would save a lot of time and resources for marketing teams.\n",
      "\n",
      "Product innovation might also come into play. Generative AI could help companies generate prototypes or models quickly without physical testing. For example, a new drug could be tested in the lab and then shown to patients via AI-generated images before being approved by regulatory bodies.\n",
      "\n",
      "Customer feedback is crucial too. By collecting reviews and ratings automatically, businesses can gather customer input on products or services. Using generative AI, they can analyze this data for trends and improve future offerings. It's a way to turn feedback into valuable information.\n",
      "\n",
      "Personalized recommendations are a big one in e-commerce. Using machine learning models created with generative AI, businesses can track user behavior and provide tailored content. For example, users might prefer certain genres of music or types of products based on their browsing history.\n",
      "\n",
      "In manufacturing, automation is everywhere now. Generative AI could help optimize processes by automating tasks like quality control or scheduling. This would reduce human error and increase efficiency in production lines.\n",
      "\n",
      "Customer experience improvement can't be overlooked. By analyzing interactions with platforms, businesses can identify areas for improvement and enhance services automatically. For instance, after a product launch, AI might analyze what users liked and recommend similar products in the future.\n",
      "\n",
      "Supply chain optimization is another area where generative AI could apply its ML models to predict demand or optimize logistics. It would allow companies to make data-driven decisions without manual intervention, saving time and resources.\n",
      "\n",
      "Legal document review can also benefit from AI tools that process hundreds of thousands of documents quickly. Automated systems can help legal teams focus on complex cases while ensuring compliance with laws.\n",
      "\n",
      "Agriculture could see benefits in crop optimization. Generative AI might analyze soil data to suggest better planting strategies or use it for stress monitoring, helping crops thrive in varying conditions.\n",
      "\n",
      "In conclusion, generative AI is versatile and has a wide range of business applications across marketing, customer support, e-commerce, manufacturing, and more. It's not just for creating content; it's a tool that can enhance various aspects of operations, decision-making, and service delivery.\n",
      "</think>\n",
      "\n",
      "Generative AI offers a versatile platform with numerous business applications, each enhancing efficiency, innovation, and user engagement. Here are key areas where generative AI is making an impact:\n",
      "\n",
      "1. **Content Creation**: Generates marketing materials like logos, social media posts, and product designs, reducing costs and increasing customer appeal.\n",
      "\n",
      "2. **Creative Fields**: Automates content creation for industries such as architecture, design, and film, saving time and effort.\n",
      "\n",
      "3. **Content Marketing**: Enables on-demand generation of blogs, images, and videos to drive brand awareness and loyalty.\n",
      "\n",
      "4. **Customer Engagement**: Reduces human interactions through chatbots, voice assistants, and automated customer service.\n",
      "\n",
      "5. **Social Media Management**: Streamlines post creation by curating content and engaging influencers dynamically.\n",
      "\n",
      "6. **Customer Segmentation**: Tailors marketing strategies using AI for personalized campaigns based on data analysis.\n",
      "\n",
      "7. **Healthcare**: Generates clinical notes and tools to improve diagnostic accuracy and aid in disease detection.\n",
      "\n",
      "8. **Marketing Automation**: Automates campaigns, tracking leads, and performance monitoring without human intervention.\n",
      "\n",
      "9. **Product Innovation**: Speeds up drug development by generating prototypes and testing models before regulatory approval.\n",
      "\n",
      "10. **Customer Feedback**: Analyzes reviews for insights, improving product offerings through data-driven results.\n",
      "\n",
      "11. **Personalized Recommendations**: Uses ML models to offer tailored content based on user behavior, enhancing e-commerce experiences.\n",
      "\n",
      "12. **Manufacturing**: Automates processes like quality control and scheduling to boost efficiency and reduce human error.\n",
      "\n",
      "13. **Customer Experience**: Optimizes service delivery by analyzing interactions and improving after the fact.\n",
      "\n",
      "14. **Supply Chain Optimization**: Predicts demand and optimizes logistics using ML models for faster decision-making.\n",
      "\n",
      "15. **Legal Document Review**: Automatically processes documents, aiding legal teams in complex cases with data-driven analysis.\n",
      "\n",
      "16. **Agriculture**: Optimizes crop strategies by analyzing soil data and suggests stress monitoring measures.\n",
      "\n",
      "Generative AI's applications span marketing, customer support, e-commerce, manufacturing, and beyond, offering a comprehensive solution to modern business challenges.\n"
     ]
    }
   ],
   "source": [
    "# If this doesn't work for any reason, try the 2 versions in the following cells\n",
    "# And double check the instructions in the 'Recap on installation of Ollama' at the top of this lab\n",
    "# And if none of that works - contact me!\n",
    "\n",
    "response = requests.post(OLLAMA_API, json=payload, headers=HEADERS)\n",
    "print(response.json()['message']['content'])"
   ]
  },
  {
   "cell_type": "markdown",
   "id": "6a021f13-d6a1-4b96-8e18-4eae49d876fe",
   "metadata": {},
   "source": [
    "# Introducing the ollama package\n",
    "\n",
    "And now we'll do the same thing, but using the elegant ollama python package instead of a direct HTTP call.\n",
    "\n",
    "Under the hood, it's making the same call as above to the ollama server running at localhost:11434"
   ]
  },
  {
   "cell_type": "code",
   "execution_count": 118,
   "id": "7745b9c4-57dc-4867-9180-61fa5db55eb8",
   "metadata": {},
   "outputs": [
    {
     "name": "stdout",
     "output_type": "stream",
     "text": [
      "<think>\n",
      "Okay, so I'm trying to understand how generative AI is being used in different industries. From what I know, generative AI can create things like images, text, and even music. But how exactly are these applications being made?\n",
      "\n",
      "First, in advertising, companies might use this for campaigns that show fake or realistic products. That sounds cool because it can make their ads more engaging without needing actual physical products. I wonder if they also do personalized content where the message changes based on who's watching? Maybe targeting different demographics or interests.\n",
      "\n",
      "Then there's healthcare. I've heard about medical imaging tools, but how does generative AI fit in here? Maybe generating better diagnostic images for doctors to see more details in their work. Or perhaps it helps with drug discoveries by creating potential chemical structures that aren't obvious yet?\n",
      "\n",
      "In finance, they might be used for fraud detection. Like encrypting transaction data before sending it over the network so it's secure and hard to cheat with fake or stolen information. That makes sense because financial systems are always under a lot of pressure.\n",
      "\n",
      "I've also heard about generative AI being used in creative fields like art and music. Maybe artists can generate their own artwork without spending time manually, which could save time and let them explore more ideas. For music, maybe creating new tracks or even generating playlists on the fly, which would be useful for fans to discover something new.\n",
      "\n",
      "In education, I'm thinking about how students might use this. Perhaps they create their own lesson plans or study materials. Or maybe schools are using it to generate sample questions and answer sheets to help teachers prepare better without having to write everything from scratch. That could save time and reduce errors.\n",
      "\n",
      "The retail industry is another area where I see possibilities. Maybe virtual assistants that help with customer service by answering questions instantly, making interactions smoother for customers. They might also use self-driving salespeople to drive around the store automatically, saving the driver's manual driving and increasing efficiency.\n",
      "\n",
      "In manufacturing, they could be used for product design. Generative AI might help create prototypes of new products or even simulate how a machine will perform under different conditions, which is useful for innovation without spending on physical testing.\n",
      "\n",
      "AI in art and design could revolutionize things like interactive installations where users can manipulate virtual elements to see how they change. That sounds pretty cool because it gives artists control over their work and allows for more dynamic experiences.\n",
      "\n",
      "In customer service, chatbots made by generative AI are probably used a lot. They could have an onboarding process where new customers learn how to use the platform, making interactions faster and less stressful for both users and operators.\n",
      "\n",
      "For logistics, maybe they help with route optimization or delivery predictions. By analyzing past data, these AI models can suggest the best time and route for deliveries, reducing costs and improving efficiency.\n",
      "\n",
      "I'm also thinking about how generative AI is being used in more specialized fields like environmental science or healthcare. For example, generating data to analyze climate patterns or creating simulations of disease spread to plan better public health measures.\n",
      "\n",
      "In terms of specific tools and services, companies might use GPT-4 for creative writing tasks, which could help in literature or storytelling. In finance, models using generative AI might be used for risk assessment by simulating various financial scenarios quickly.\n",
      "\n",
      "Wait, am I missing anything? Maybe in the entertainment industry, they're creating new types of content like personalized movies or video games that adapt based on user preferences. That would make a lot of sense as a way to engage audiences more deeply.\n",
      "\n",
      "Also, generative AI could be used in security for tasks like facial recognition that changes with different subjects. This would allow for safer and faster automated security measures without the need for constant human intervention.\n",
      "\n",
      "I think I've covered most of the applications so far. It's pretty versatile because it can fit into almost any industry where creativity or data-driven decisions are needed. The key is how these AI tools are integrated to provide value beyond just generating something else.\n",
      "</think>\n",
      "\n",
      "Generative AI has a wide range of applications across various industries, leveraging its ability to create content in diverse forms. Here's an organized overview of its potential uses:\n",
      "\n",
      "1. **Advertising**: Used for creating engaging ad content such as realistic images or personalized messages that adapt based on audience preferences.\n",
      "\n",
      "2. **Healthcare**: Utilizes AI for medical imaging (e.g., generating clearer diagnostic images), drug discovery (to find new chemical structures), and fraud detection in financial systems.\n",
      "\n",
      "3. **Finance**: employed to secure transaction data by encrypting it before network transmission, reducing the risk of fraud or stolen information.\n",
      "\n",
      "4. **Education**: Encourages students to create their own lesson plans and study materials, while assisting educators with generating sample questions and answer sheets.\n",
      "\n",
      "5. **Retail**: Assists customers with virtual assistants for efficient service (e.g., answering questions) and self-driving salespeople for optimizing store operations.\n",
      "\n",
      "6. **Art and Design**: Facilitates interactive installations and dynamic product experiences, allowing users to manipulate virtual elements.\n",
      "\n",
      "7. **Customer Service**: Reduces interaction times through chatbots trained on user behavior, improving efficiency in onboarding processes.\n",
      "\n",
      "8. **Manufacturing**: Aids in product design by generating prototypes or simulating machine performance under various conditions.\n",
      "\n",
      "9. **Environmental Science and Healthcare**: Used for data analysis (e.g., climate patterns simulation) and creating adaptive simulations for disease spread planning.\n",
      "\n",
      "10. **Entertainment**: Develops personalized content like movies or video games that adapt to user preferences, enhancing engagement.\n",
      "\n",
      "11. **Security**: Enhances automated security measures with facial recognition systems that change based on subjects.\n",
      "\n",
      "In summary, generative AI's versatility lies in its ability to enhance creativity and decision-making across industries by integrating into creative tasks, simulations, and personalized services, ultimately providing value beyond mere content generation.\n"
     ]
    }
   ],
   "source": [
    "import ollama\n",
    "\n",
    "response = ollama.chat(model=MODEL, messages=messages)\n",
    "print(response['message']['content'])"
   ]
  },
  {
   "cell_type": "markdown",
   "id": "a4704e10-f5fb-4c15-a935-f046c06fb13d",
   "metadata": {},
   "source": [
    "## Alternative approach - using OpenAI python library to connect to Ollama"
   ]
  },
  {
   "cell_type": "code",
   "execution_count": 119,
   "id": "23057e00-b6fc-4678-93a9-6b31cb704bff",
   "metadata": {},
   "outputs": [
    {
     "name": "stdout",
     "output_type": "stream",
     "text": [
      "<think>\n",
      "Okay, so I'm trying to understand how generative AI is used in businesses. I know a little bit about AI and machine learning, but I'm not very familiar with generative AI specifically. Let me think through this.\n",
      "\n",
      "First, from what I remember, generative AI is different from discriminative models because it focuses on creating something rather than predicting. Like, a discriminative model might predict which customer you'll recommend based on their purchase history, while a generative one would create descriptions of products or ideas. That makes sense since generating things seems like a creative process.\n",
      "\n",
      "I've heard about tasks like writing, art generation, creative writing. Maybe in marketing? Oh right, companies use this to create catchy ads or product names. I think Apple did something with that for their Airplane products. So they could optimize product names based on market trends. That's a smart way to position better without spending money.\n",
      "\n",
      "Another thing someone told me is about creating storyboards and concept art. I guess businesses can draft a picture as part of the concept creation process too. They might be trying to come up with a new product or service idea, but before deciding which one it actually is, they need some visual ideas in mind.\n",
      "\n",
      "Let me think about more specific examples. Product development? Companies could generate prototypes for new features. For example, Google did something similar with their Pixel devices; they created virtual representations that show how the camera works. That helps in marketing and quality control. That's a good one—they can test designs before manufacturing.\n",
      "\n",
      "AI has advanced, so generative models can handle more complex data. Like text, numbers, images—generative models can model these better than traditional methods. So businesses might use this for content creation across products or services, which isn't just limited to products but also ads and even creative writing. That seems like a big area in digital marketing.\n",
      "\n",
      "Now, how is that implemented? I remember reading that it's often used within AI platforms that handle tasks like data generation or prompt editing. Maybe users input a specific thing they want to generate—like an email subject line—to see what others say. It could also be used for debugging models by generating sample inputs or outputs.\n",
      "\n",
      "Business applications might include product development, creative writing (for blogs), customer experience design in e-commerce, advertising messages with optimized visuals, content creation for social media and videos, data generation like predictions or market trends, language learning through chatbots, job advertisements using AI to catch potential candidates, and even refining service offerings by generating what customers would want.\n",
      "\n",
      "I also wonder about compliance. Generating documents or business strategies might be used in legal matters, ensuring proper frameworks are followed without being caught in any disputes.\n",
      "\n",
      "Wait, did I miss anything? Let me try to list them out:\n",
      "\n",
      "1. Product Development: Optimizing product names and features based on trends.\n",
      "2. Content Creation: For blogs, e-commerce, videos, social media.\n",
      "3. Strategic Writing: Generating messages or proposals that are compliant with laws and regulations.\n",
      "4. Training and Marketing: Creating content for employees, customers, potential clients.\n",
      "5. Data Analysis: For market research using generated data.\n",
      "6. Legal Compliance: Ensuring legal compliance by generating documents.\n",
      "\n",
      "Hmm, is there something else? Maybe in supply chain management—like visualizing product lead times or supply chain diagrams. Or in advertising, as I thought earlier, creating engaging ads with visuals and text.\n",
      "\n",
      "I think that covers a lot of areas. The key points are how it can optimize processes, create content effectively, aid in strategic thinking, and support decision-making by providing data and ideas that would otherwise require years to develop manually.\n",
      "</think>\n",
      "\n",
      "Generative AI offers numerous business applications across various sectors, focusing on creativity and innovation. Here's an organized overview:\n",
      "\n",
      "1. **Product Development**: Optimizes product names and features based on market trends to enhance brand positioning. Companies like Apple use this for their \"Airplane\" series, ensuring effective marketing without direct investment.\n",
      "\n",
      "2. **Content Creation**: Delivers content across platforms such as products, ads, blogs, e-commerce, videos, social media, and e newspapers. Examples include the Pixel devices by Google or blog posts using AI-generated content.\n",
      "\n",
      "3. **Strategic Writing**: Generates legally compliant business strategies to ensure compliance without legal issues, crucial for legal matters impacting firm operations.\n",
      "\n",
      "4. **Training and Marketing**: Develops content for employees, customers, and potential clients, leveraging AI's creativity to align with industry trends and customer behaviors.\n",
      "\n",
      "5. **Data Analysis**: Utilizes generated data for market research, helping businesses make informed decisions based on creative insights developed on a large scale.\n",
      "\n",
      "6. **Social and Supply Chain Management**: Visualizes lead times and supply chain diagrams, aiding in effective planning and efficiency improvement.\n",
      "\n",
      "7. **Legal Compliance**: Creatively generates documents for legal processes, avoiding the time-consuming manual development of frameworks.\n",
      "\n",
      "8. **广告创意：** Enhances advertising messages with compelling visuals and text to captivate attention and engage viewers effectively.\n",
      "\n",
      "Generative AI's transformative potential lies in its ability to create high-quality ideas and content efficiently, significantly enhancing business strategies, innovation, and efficiency.\n"
     ]
    }
   ],
   "source": [
    "# There's actually an alternative approach that some people might prefer\n",
    "# You can use the OpenAI client python library to call Ollama:\n",
    "\n",
    "from openai import OpenAI\n",
    "ollama_via_openai = OpenAI(base_url='http://localhost:11434/v1', api_key='ollama')\n",
    "\n",
    "response = ollama_via_openai.chat.completions.create(\n",
    "    model=MODEL,\n",
    "    messages=messages\n",
    ")\n",
    "\n",
    "print(response.choices[0].message.content)"
   ]
  },
  {
   "cell_type": "markdown",
   "id": "9f9e22da-b891-41f6-9ac9-bd0c0a5f4f44",
   "metadata": {},
   "source": [
    "## Are you confused about why that works?\n",
    "\n",
    "It seems strange, right? We just used OpenAI code to call Ollama?? What's going on?!\n",
    "\n",
    "Here's the scoop:\n",
    "\n",
    "The python class `OpenAI` is simply code written by OpenAI engineers that makes calls over the internet to an endpoint.  \n",
    "\n",
    "When you call `openai.chat.completions.create()`, this python code just makes a web request to the following url: \"https://api.openai.com/v1/chat/completions\"\n",
    "\n",
    "Code like this is known as a \"client library\" - it's just wrapper code that runs on your machine to make web requests. The actual power of GPT is running on OpenAI's cloud behind this API, not on your computer!\n",
    "\n",
    "OpenAI was so popular, that lots of other AI providers provided identical web endpoints, so you could use the same approach.\n",
    "\n",
    "So Ollama has an endpoint running on your local box at http://localhost:11434/v1/chat/completions  \n",
    "And in week 2 we'll discover that lots of other providers do this too, including Gemini and DeepSeek.\n",
    "\n",
    "And then the team at OpenAI had a great idea: they can extend their client library so you can specify a different 'base url', and use their library to call any compatible API.\n",
    "\n",
    "That's it!\n",
    "\n",
    "So when you say: `ollama_via_openai = OpenAI(base_url='http://localhost:11434/v1', api_key='ollama')`  \n",
    "Then this will make the same endpoint calls, but to Ollama instead of OpenAI."
   ]
  },
  {
   "cell_type": "markdown",
   "id": "bc7d1de3-e2ac-46ff-a302-3b4ba38c4c90",
   "metadata": {},
   "source": [
    "## Also trying the amazing reasoning model DeepSeek\n",
    "\n",
    "Here we use the version of DeepSeek-reasoner that's been distilled to 1.5B.  \n",
    "This is actually a 1.5B variant of Qwen that has been fine-tuned using synethic data generated by Deepseek R1.\n",
    "\n",
    "Other sizes of DeepSeek are [here](https://ollama.com/library/deepseek-r1) all the way up to the full 671B parameter version, which would use up 404GB of your drive and is far too large for most!"
   ]
  },
  {
   "cell_type": "code",
   "execution_count": 120,
   "id": "cf9eb44e-fe5b-47aa-b719-0bb63669ab3d",
   "metadata": {},
   "outputs": [
    {
     "name": "stdout",
     "output_type": "stream",
     "text": [
      "\u001b[?2026h\u001b[?25l\u001b[1Gpulling manifest ⠋ \u001b[K\u001b[?25h\u001b[?2026l\u001b[?2026h\u001b[?25l\u001b[1Gpulling manifest ⠙ \u001b[K\u001b[?25h\u001b[?2026l\u001b[?2026h\u001b[?25l\u001b[1Gpulling manifest ⠹ \u001b[K\u001b[?25h\u001b[?2026l\u001b[?2026h\u001b[?25l\u001b[1Gpulling manifest ⠸ \u001b[K\u001b[?25h\u001b[?2026l\u001b[?2026h\u001b[?25l\u001b[1Gpulling manifest ⠼ \u001b[K\u001b[?25h\u001b[?2026l\u001b[?2026h\u001b[?25l\u001b[1Gpulling manifest ⠴ \u001b[K\u001b[?25h\u001b[?2026l\u001b[?2026h\u001b[?25l\u001b[1Gpulling manifest ⠦ \u001b[K\u001b[?25h\u001b[?2026l\u001b[?2026h\u001b[?25l\u001b[1Gpulling manifest ⠧ \u001b[K\u001b[?25h\u001b[?2026l\u001b[?2026h\u001b[?25l\u001b[1Gpulling manifest ⠇ \u001b[K\u001b[?25h\u001b[?2026l\u001b[?2026h\u001b[?25l\u001b[1Gpulling manifest ⠏ \u001b[K\u001b[?25h\u001b[?2026l\u001b[?2026h\u001b[?25l\u001b[1Gpulling manifest \u001b[K\n",
      "pulling aabd4debf0c8: 100% ▕██████████████████▏ 1.1 GB                         \u001b[K\n",
      "pulling c5ad996bda6e: 100% ▕██████████████████▏  556 B                         \u001b[K\n",
      "pulling 6e4c38e1172f: 100% ▕██████████████████▏ 1.1 KB                         \u001b[K\n",
      "pulling f4d24e9138dd: 100% ▕██████████████████▏  148 B                         \u001b[K\n",
      "pulling a85fe2a2e58e: 100% ▕██████████████████▏  487 B                         \u001b[K\n",
      "verifying sha256 digest \u001b[K\n",
      "writing manifest \u001b[K\n",
      "success \u001b[K\u001b[?25h\u001b[?2026l\n"
     ]
    }
   ],
   "source": [
    "!ollama pull deepseek-r1:1.5b"
   ]
  },
  {
   "cell_type": "code",
   "execution_count": 121,
   "id": "1d3d554b-e00d-4c08-9300-45e073950a76",
   "metadata": {},
   "outputs": [
    {
     "name": "stdout",
     "output_type": "stream",
     "text": [
      "<think>\n",
      "Okay, so I need to break down the core concepts behind Large Language Models (LLMs) into something like 10 specific topics. The user has listed \"neural network,\" \"attention,\" and \"transformer\" as three. I think a good way to approach this is to expand each of these areas a bit more, making sure to cover the basics but also some related or complementary concepts.\n",
      "\n",
      "Starting with neural networks—LLMs are a type of AI model that uses neural networks. The basics here might include how they work internally, their components like layers and neurons, and the algorithms they utilize for processing information. Maybe I should touch on deep learning, since LLMs are at the forefront of machine learning. Also, perhaps mention some specific architectures or models that are used in these models, though not all might be necessary depending on what I'm explaining.\n",
      "\n",
      "Next up is attention. From what I remember, attention mechanism is crucial in language models because it helps them focus on relevant parts when predicting the next word or token. But maybe also include how this relates to other components like convolutional neural networks, and other attention-based models that exist beyond LLMs? Also, perhaps mention sparse attention as a consideration since some models might not use full attention over all tokens.\n",
      "\n",
      "The transformer is another key component. It uses self-attention, so I should explain what that means. Maybe go into decoder-only vs decoder-coder variants because the user mentioned \"transformer.\" Then talk about attention mechanisms within transformers—like multi-head and position-wise, how they work together, multi-modal attention maybe as an extension, attention layers in different models such as those used in NLP, or even self-attention for tokens. Also, mention key-value attention beyond traditional token representations.\n",
      "\n",
      "Deep learning might be another important area to cover since LLMs heavily rely on deep neural networks with backpropagation and optimization techniques like Adam. Perhaps also touch on general AI concepts they've built upon, like models that can learn, generalize from data, etc.\n",
      "\n",
      "In relation to NLP, I should mention how LLMs handle variable-length sequences efficiently through positional encoding, padding tokens, and using various embedding layers. Also, perhaps discuss language modeling or conversational capabilities since those are significant aspects of LLM functionality beyond just text generation.\n",
      "\n",
      "Language modeling is a fundamental part because it's the primary goal of training LLMs, predicting the next word in a sequence or generating coherent texts. Then maybe look into generative and predictive models—whether they can create diverse responses to prompts or generate coherent sequences that make sense regardless of context.\n",
      "\n",
      "Transfer learning comes another consideration, where models are adapted from other tasks, allowing them to perform poorly on one domain but well on another through fine-tuning on data specific to the target.\n",
      "\n",
      "Interpretable AI is an emerging topic. While much of deep learning is und interpretable, discussing how to make LLMs understand their decisions could be beneficial in explaining and debugging models.\n",
      "\n",
      "Lastly, I should give notes about each aspect, perhaps referencing some key papers or authors, like GPT's introduction, BERT and others for language modeling, and Transformer variants like XLFT or ChatGPT.\n",
      "\n",
      "I need to ensure that these points are comprehensive but not too broad. Each section should explain the concept behind it relative to LLMs rather than just their own technical aspects. Including a variety of perspectives along with specific applications would give a well-rounded understanding.\n",
      "</think>\n",
      "\n",
      "Certainly! Here's an organized overview of some core concepts behind Large Language Models (LLMs), focused on key components and their role in AI and NLP:\n",
      "\n",
      "### 1. Neural Networks\n",
      "- **Mechanism**: Utilizes deep learning algorithms, including convolutional neural networks and RNNs/LSTMs.\n",
      "- **Components**: Neural networks with layers and neurons processing input data.\n",
      "- **Applications**: Building blocks for tasks like speech recognition and categorizing images.\n",
      "\n",
      "### 2. Attention Mechanism\n",
      "- **Overview**: Focuses on the model's ability to focus on relevant information using attention.\n",
      "- **Types**:\n",
      "  - **Decoder-only vs decoder-coder**: Differentiates between models that process only the target text and those that use an input context for better predictions.\n",
      "  - **Sparse attention**: Deals with large token sequences by distributing focus over a sparse subset of tokens, enhancing processing efficiency.\n",
      "\n",
      "### 3. Transformer\n",
      "- **Self-attention**: Employs multi-head and position-wise mechanisms to weigh relevance between different parts of the input sequence.\n",
      "- **decoder-only vs decoder-coder**: Variants differ in how they use context during inference (decoding) versus training/training+generation.\n",
      "- **Attention layers**:\n",
      "  - In NLP tasks: Multi-token, multi-modal attention for better modeling and efficient resource use.\n",
      "  - Self-attention: Facilitates capturing complex relationships between tokens.\n",
      "\n",
      "### 4. Deep Learning\n",
      "- **Applications**: Extensive use of deep neural networks with backpropagation and optimization techniques like Adam.\n",
      "- **Learning principles**: Models can learn from data, generalize, and adapt.\n",
      "\n",
      "### 5. NLP as Context Modeling\n",
      "- **Modeling sequence generation**: Processes variable-length sequences using positional encoding and padding for manageable embedding dimensions.\n",
      "\n",
      "### 6. Language Models vs Generators/C damaging\n",
      "- **Generative capabilities**: Enable models to create coherent, diverse responses from prompts.\n",
      "- **Discernment**: Differentiates between language modeling (predicting next words) and generative tasks requiring context understanding.\n",
      "\n",
      "### 7. Transfer Learning\n",
      "- **Aiding domain adaptability**: Fine-tuning models across different domains helps apply success models to new tasks.\n",
      "\n",
      "### 8. Interpretable AI\n",
      "- **Challenges**: Unclear decisions despite large amounts of data, explored in interpretable models for NLP.\n",
      "- **Exploration**: Discusses methods to enhance model transparency and readability.\n",
      "\n",
      "### 9. Recent Developments\n",
      "- **Attention mechanisms**: Variations include position-aware vs attention-dependent, multi-head and position-wise components.\n",
      "- **Generative capabilities**: Enable efficient learning from limited data through context awareness.\n",
      "- **Applications**: Exploring the future of LLMs in diverse contexts beyond research.\n",
      "\n",
      "Each section highlights a key aspect, integrating broader AI and NLP concepts to provide a holistic understanding of how LLMs function.\n"
     ]
    }
   ],
   "source": [
    "# This may take a few minutes to run! You should then see a fascinating \"thinking\" trace inside <think> tags, followed by some decent definitions\n",
    "\n",
    "response = ollama_via_openai.chat.completions.create(\n",
    "    model=\"deepseek-r1:1.5b\",\n",
    "    messages=[{\"role\": \"user\", \"content\": \"Please give definitions of some core concepts behind LLMs: a neural network, attention and the transformer\"}]\n",
    ")\n",
    "\n",
    "print(response.choices[0].message.content)"
   ]
  },
  {
   "cell_type": "markdown",
   "id": "1622d9bb-5c68-4d4e-9ca4-b492c751f898",
   "metadata": {},
   "source": [
    "# NOW the exercise for you\n",
    "\n",
    "Take the code from day1 and incorporate it here, to build a website summarizer that uses Llama 3.2 running locally instead of OpenAI; use either of the above approaches."
   ]
  },
  {
   "cell_type": "markdown",
   "id": "fceca67e",
   "metadata": {},
   "source": [
    "# Scapper of the webpage"
   ]
  },
  {
   "cell_type": "code",
   "execution_count": 122,
   "id": "6de38216-6d1c-48c4-877b-86d403f4e0f8",
   "metadata": {},
   "outputs": [],
   "source": [
    "# A class to represent a Webpage\n",
    "# If you're not familiar with Classes, check out the \"Intermediate Python\" notebook\n",
    "\n",
    "# Some websites need you to use proper headers when fetching them:\n",
    "headers = {\n",
    " \"User-Agent\": \"Mozilla/5.0 (Windows NT 10.0; Win64; x64) AppleWebKit/537.36 (KHTML, like Gecko) Chrome/117.0.0.0 Safari/537.36\"\n",
    "}\n",
    "\n",
    "class Website:\n",
    "\n",
    "    def __init__(self, url):\n",
    "        \"\"\"\n",
    "        Create this Website object from the given url using the BeautifulSoup library\n",
    "        \"\"\"\n",
    "        self.url = url\n",
    "        response = requests.get(url, headers=headers)\n",
    "        soup = BeautifulSoup(response.content, 'html.parser')\n",
    "        self.title = soup.title.string if soup.title else \"No title found\"\n",
    "        for irrelevant in soup.body([\"script\", \"style\", \"img\", \"input\"]):\n",
    "            irrelevant.decompose()\n",
    "        self.text = soup.body.get_text(separator=\"\\n\", strip=True)"
   ]
  },
  {
   "cell_type": "code",
   "execution_count": 123,
   "id": "e5f6acb8",
   "metadata": {},
   "outputs": [
    {
     "name": "stdout",
     "output_type": "stream",
     "text": [
      "Home - Edward Donner\n",
      "Home\n",
      "Connect Four\n",
      "Outsmart\n",
      "An arena that pits LLMs against each other in a battle of diplomacy and deviousness\n",
      "About\n",
      "Posts\n",
      "Well, hi there.\n",
      "I’m Ed. I like writing code and experimenting with LLMs, and hopefully you’re here because you do too. I also enjoy DJing (but I’m badly out of practice), amateur electronic music production (\n",
      "very\n",
      "amateur) and losing myself in\n",
      "Hacker News\n",
      ", nodding my head sagely to things I only half understand.\n",
      "I’m the co-founder and CTO of\n",
      "Nebula.io\n",
      ". We’re applying AI to a field where it can make a massive, positive impact: helping people discover their potential and pursue their reason for being. Recruiters use our product today to source, understand, engage and manage talent. I’m previously the founder and CEO of AI startup untapt,\n",
      "acquired in 2021\n",
      ".\n",
      "We work with groundbreaking, proprietary LLMs verticalized for talent, we’ve\n",
      "patented\n",
      "our matching model, and our award-winning platform has happy customers and tons of press coverage.\n",
      "Connect\n",
      "with me for more!\n",
      "May 28, 2025\n",
      "Connecting my courses – become an LLM expert and leader\n",
      "May 18, 2025\n",
      "2025 AI Executive Briefing\n",
      "April 21, 2025\n",
      "The Complete Agentic AI Engineering Course\n",
      "January 23, 2025\n",
      "LLM Workshop – Hands-on with Agents – resources\n",
      "Navigation\n",
      "Home\n",
      "Connect Four\n",
      "Outsmart\n",
      "An arena that pits LLMs against each other in a battle of diplomacy and deviousness\n",
      "About\n",
      "Posts\n",
      "Get in touch\n",
      "ed [at] edwarddonner [dot] com\n",
      "www.edwarddonner.com\n",
      "Follow me\n",
      "LinkedIn\n",
      "Twitter\n",
      "Facebook\n",
      "Subscribe to newsletter\n",
      "Type your email…\n",
      "Subscribe\n"
     ]
    }
   ],
   "source": [
    "# Let's try one out. Change the website and add print statements to follow along.\n",
    "\n",
    "ed = Website(\"https://edwarddonner.com\")\n",
    "print(ed.title)\n",
    "print(ed.text)"
   ]
  },
  {
   "cell_type": "markdown",
   "id": "6fffe0ba",
   "metadata": {},
   "source": [
    "## Giving system instructions to the model"
   ]
  },
  {
   "cell_type": "code",
   "execution_count": 124,
   "id": "1d34733f",
   "metadata": {},
   "outputs": [],
   "source": [
    "# Define our system prompt - you can experiment with this later, changing the last sentence to 'Respond in markdown in Spanish.\"\n",
    "\n",
    "system_prompt = \"You are an Brazilian assistant specialist that analyzes the contents of a website \\\n",
    "and provides a short summary, ignoring text that might be navigation related.You speaks only portuguese. \\\n",
    "Respond in markdown.\""
   ]
  },
  {
   "cell_type": "code",
   "execution_count": 125,
   "id": "c877e23f",
   "metadata": {},
   "outputs": [],
   "source": [
    "# A function that writes a User Prompt that asks for summaries of websites:\n",
    "\n",
    "def user_prompt_for(website):\n",
    "    user_prompt = f\"You are looking at a website titled {website.title}\"\n",
    "    user_prompt += \"\\nThe contents of this website is as follows; \\\n",
    "please provide a short summary of this website in markdown. \\\n",
    "If it includes news or announcements, then summarize these too.\\n\\n\"\n",
    "    user_prompt += website.text\n",
    "    return user_prompt"
   ]
  },
  {
   "cell_type": "code",
   "execution_count": 126,
   "id": "ad7fdc1f",
   "metadata": {},
   "outputs": [
    {
     "name": "stdout",
     "output_type": "stream",
     "text": [
      "You are looking at a website titled Home - Edward Donner\n",
      "The contents of this website is as follows; please provide a short summary of this website in markdown. If it includes news or announcements, then summarize these too.\n",
      "\n",
      "Home\n",
      "Connect Four\n",
      "Outsmart\n",
      "An arena that pits LLMs against each other in a battle of diplomacy and deviousness\n",
      "About\n",
      "Posts\n",
      "Well, hi there.\n",
      "I’m Ed. I like writing code and experimenting with LLMs, and hopefully you’re here because you do too. I also enjoy DJing (but I’m badly out of practice), amateur electronic music production (\n",
      "very\n",
      "amateur) and losing myself in\n",
      "Hacker News\n",
      ", nodding my head sagely to things I only half understand.\n",
      "I’m the co-founder and CTO of\n",
      "Nebula.io\n",
      ". We’re applying AI to a field where it can make a massive, positive impact: helping people discover their potential and pursue their reason for being. Recruiters use our product today to source, understand, engage and manage talent. I’m previously the founder and CEO of AI startup untapt,\n",
      "acquired in 2021\n",
      ".\n",
      "We work with groundbreaking, proprietary LLMs verticalized for talent, we’ve\n",
      "patented\n",
      "our matching model, and our award-winning platform has happy customers and tons of press coverage.\n",
      "Connect\n",
      "with me for more!\n",
      "May 28, 2025\n",
      "Connecting my courses – become an LLM expert and leader\n",
      "May 18, 2025\n",
      "2025 AI Executive Briefing\n",
      "April 21, 2025\n",
      "The Complete Agentic AI Engineering Course\n",
      "January 23, 2025\n",
      "LLM Workshop – Hands-on with Agents – resources\n",
      "Navigation\n",
      "Home\n",
      "Connect Four\n",
      "Outsmart\n",
      "An arena that pits LLMs against each other in a battle of diplomacy and deviousness\n",
      "About\n",
      "Posts\n",
      "Get in touch\n",
      "ed [at] edwarddonner [dot] com\n",
      "www.edwarddonner.com\n",
      "Follow me\n",
      "LinkedIn\n",
      "Twitter\n",
      "Facebook\n",
      "Subscribe to newsletter\n",
      "Type your email…\n",
      "Subscribe\n"
     ]
    }
   ],
   "source": [
    "print(user_prompt_for(ed))"
   ]
  },
  {
   "cell_type": "code",
   "execution_count": 127,
   "id": "0608b9e5",
   "metadata": {},
   "outputs": [],
   "source": [
    "# See how this function creates exactly the format above\n",
    "def messages_for(website):\n",
    "    return [\n",
    "        {\"role\": \"system\", \"content\": system_prompt},\n",
    "        {\"role\": \"user\", \"content\": user_prompt_for(website)}\n",
    "    ]"
   ]
  },
  {
   "cell_type": "code",
   "execution_count": 128,
   "id": "5e611feb",
   "metadata": {},
   "outputs": [
    {
     "data": {
      "text/plain": [
       "[{'role': 'system',\n",
       "  'content': 'You are an Brazilian assistant specialist that analyzes the contents of a website and provides a short summary, ignoring text that might be navigation related.You speaks only portuguese. Respond in markdown.'},\n",
       " {'role': 'user',\n",
       "  'content': 'You are looking at a website titled Home - Edward Donner\\nThe contents of this website is as follows; please provide a short summary of this website in markdown. If it includes news or announcements, then summarize these too.\\n\\nHome\\nConnect Four\\nOutsmart\\nAn arena that pits LLMs against each other in a battle of diplomacy and deviousness\\nAbout\\nPosts\\nWell, hi there.\\nI’m Ed. I like writing code and experimenting with LLMs, and hopefully you’re here because you do too. I also enjoy DJing (but I’m badly out of practice), amateur electronic music production (\\nvery\\namateur) and losing myself in\\nHacker News\\n, nodding my head sagely to things I only half understand.\\nI’m the co-founder and CTO of\\nNebula.io\\n. We’re applying AI to a field where it can make a massive, positive impact: helping people discover their potential and pursue their reason for being. Recruiters use our product today to source, understand, engage and manage talent. I’m previously the founder and CEO of AI startup untapt,\\nacquired in 2021\\n.\\nWe work with groundbreaking, proprietary LLMs verticalized for talent, we’ve\\npatented\\nour matching model, and our award-winning platform has happy customers and tons of press coverage.\\nConnect\\nwith me for more!\\nMay 28, 2025\\nConnecting my courses – become an LLM expert and leader\\nMay 18, 2025\\n2025 AI Executive Briefing\\nApril 21, 2025\\nThe Complete Agentic AI Engineering Course\\nJanuary 23, 2025\\nLLM Workshop – Hands-on with Agents – resources\\nNavigation\\nHome\\nConnect Four\\nOutsmart\\nAn arena that pits LLMs against each other in a battle of diplomacy and deviousness\\nAbout\\nPosts\\nGet in touch\\ned [at] edwarddonner [dot] com\\nwww.edwarddonner.com\\nFollow me\\nLinkedIn\\nTwitter\\nFacebook\\nSubscribe to newsletter\\nType your email…\\nSubscribe'}]"
      ]
     },
     "execution_count": 128,
     "metadata": {},
     "output_type": "execute_result"
    }
   ],
   "source": [
    "# Try this out, and then try for a few more websites\n",
    "\n",
    "messages_for(ed)"
   ]
  },
  {
   "cell_type": "markdown",
   "id": "3f724adb",
   "metadata": {},
   "source": [
    "# Calling the function to summarize the webpage"
   ]
  },
  {
   "cell_type": "code",
   "execution_count": 133,
   "id": "b3df0f06",
   "metadata": {},
   "outputs": [],
   "source": [
    "# Now let's use Ollama to summarize the text of this website\n",
    "messages = messages_for(website=ed)\n",
    "# Uncomment the following line to run the model with Ollama\n",
    "# response = ollama.chat(model=MODEL, messages=messages)\n",
    "# print(response['message']['content'])\n",
    "\n",
    "def summarize(website):\n",
    "    website = Website(website) if isinstance(website, str) else website\n",
    "    messages = messages_for(website)\n",
    "    response = ollama_via_openai.chat.completions.create(\n",
    "        model=MODEL,\n",
    "        messages=messages\n",
    "    )\n",
    "    return response.choices[0].message.content\n"
   ]
  },
  {
   "cell_type": "code",
   "execution_count": 130,
   "id": "158ad22d",
   "metadata": {},
   "outputs": [
    {
     "name": "stdout",
     "output_type": "stream",
     "text": [
      "<think>\n",
      "Alright, so the user wants me to summarize a website about Edward Donner. I need to provide a short summary in Portuguese, breaking down specific content sections.\n",
      "\n",
      "First, I'll look at the page structure. There's a navigation bar with links: Home, Connect Four, Outsmart, and an arena interface. The title is \"Home - Edward Donner.\"\n",
      "\n",
      "The main content appears beneath these links, which seems disconnected from the others except for being near them. Everything else in the page (like \"About,\" \"Posts,\" and navigation menu) isn't related to the game areas.\n",
      "\n",
      "Since none of the other sections talk about games or their uses, like Connect Four or Outsmart, I shouldn't go into details about those but just mention they exist on the site.\n",
      "\n",
      "I'll keep it concise since text is usually ignored in summaries. Focus on Edward Donner as the main entity and highlight the connections at the top, perhaps noting that other areas aren't relevant.\n",
      "</think>\n",
      "\n",
      "\"Home - Edward Donner\n",
      "Edward Donner é o cabeçalho principal da página. O navigation inclui links como Connect Four e Outsmart para separar into sections relacionadas com os game areas. A página apresenta informações sobre o edwarddonner, incluindo um feed de comandos e uma seção de postagens. A página também destaca uma seção de atentações no teffete esquerdo da página, notationando a date of November 12, 2023.\n",
      "\"\n"
     ]
    }
   ],
   "source": [
    "# ed = Website(\"https://github.com/ollama/ollama\")\n",
    "print(summarize(ed))"
   ]
  },
  {
   "cell_type": "markdown",
   "id": "5f720dfb",
   "metadata": {},
   "source": [
    "# Markdown formatting the output"
   ]
  },
  {
   "cell_type": "code",
   "execution_count": 140,
   "id": "63b84d3e",
   "metadata": {},
   "outputs": [],
   "source": [
    "# A function to display this nicely in the Jupyter output, using markdown\n",
    "\n",
    "def display_summary(url):\n",
    "    summary = summarize(url)\n",
    "    #remove the <think> tags\n",
    "    summary = summary.replace(\"<think>\", \"\").replace(\"</think>\", \"\")\n",
    "    # Convert to Markdown and display\n",
    "    # display(summary)\n",
    "    display(Markdown(summary))"
   ]
  },
  {
   "cell_type": "code",
   "execution_count": 141,
   "id": "9840d742",
   "metadata": {},
   "outputs": [
    {
     "data": {
      "text/markdown": [
       "\n",
       "Okay, I need to summarize this website based on the user's instruction. Let me read through it carefully.\n",
       "\n",
       "First, the title is \"Home - Edward Donner.\" So, the main subject is Edward Donner's Home page.\n",
       "\n",
       "Looking at the content, I see several sections:\n",
       "\n",
       "- **About** section with links and contact email.\n",
       "- A post about becoming a co-founder and CTO of a company called Nebula.io. They mentioned working with LLMs and patenting their matching model for talent sourcing.\n",
       "  \n",
       "There are also navigation links: Connect Four, Outsmart, an arena for LLM battles, About, Posts, Get in touch, address, website, followers, etc.\n",
       "\n",
       "The user wants a short summary, ignoring navigation points. The main info is about Nebula.io and their role with LLMs.\n",
       "\n",
       "I should sum it up highlighting the company's focus on talent acquisition using AGI, and mention the co-founders' background.\n",
       "\n",
       "\n",
       "Nebula.io, led by co-founder and CTO Ed., focuses on talent sourcing using AI/AGI technology."
      ],
      "text/plain": [
       "<IPython.core.display.Markdown object>"
      ]
     },
     "metadata": {},
     "output_type": "display_data"
    }
   ],
   "source": [
    "display_summary(\"https://edwarddonner.com\")"
   ]
  }
 ],
 "metadata": {
  "kernelspec": {
   "display_name": "venv",
   "language": "python",
   "name": "python3"
  },
  "language_info": {
   "codemirror_mode": {
    "name": "ipython",
    "version": 3
   },
   "file_extension": ".py",
   "mimetype": "text/x-python",
   "name": "python",
   "nbconvert_exporter": "python",
   "pygments_lexer": "ipython3",
   "version": "3.11.12"
  }
 },
 "nbformat": 4,
 "nbformat_minor": 5
}
